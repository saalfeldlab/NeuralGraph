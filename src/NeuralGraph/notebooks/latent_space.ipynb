{
 "cells": [
  {
   "cell_type": "code",
   "execution_count": 1,
   "id": "24850553",
   "metadata": {},
   "outputs": [],
   "source": [
    "import itertools\n",
    "import numpy as np\n",
    "import torch\n",
    "import torch.jit\n",
    "import torch.nn as nn\n",
    "from torch.utils.data import DataLoader, TensorDataset\n",
    "import sklearn.decomposition\n",
    "import sklearn.manifold\n",
    "import sklearn.neighbors\n",
    "import tqdm\n",
    "import matplotlib.pyplot as plt\n",
    "import matplotlib as mpl\n",
    "import polars as pl\n",
    "import scipy.stats\n",
    "from mpl_toolkits.axes_grid1 import ImageGrid\n",
    "\n",
    "\n",
    "%matplotlib inline"
   ]
  },
  {
   "cell_type": "code",
   "execution_count": 2,
   "id": "34f2f4ef",
   "metadata": {},
   "outputs": [],
   "source": [
    "# sim_dir = \"/groups/saalfeld/home/allierc/Py/NeuralGraph/graphs_data/fly/fly_N9_54_1\"\n",
    "# use local copy - faster\n",
    "sim_dir = \"/mnt/localdata/fly_N9_54_1\""
   ]
  },
  {
   "cell_type": "code",
   "execution_count": 3,
   "id": "92b44fd8",
   "metadata": {},
   "outputs": [],
   "source": [
    "x = np.load(f\"{sim_dir}/x_list_0.npy\")"
   ]
  },
  {
   "cell_type": "code",
   "execution_count": 4,
   "id": "befbbf92",
   "metadata": {},
   "outputs": [
    {
     "name": "stdout",
     "output_type": "stream",
     "text": [
      "(90720, 13741, 9) float32\n"
     ]
    }
   ],
   "source": [
    "_, num_cells, _ = x.shape\n",
    "print(x.shape, x.dtype)"
   ]
  },
  {
   "cell_type": "code",
   "execution_count": 5,
   "id": "abf57435",
   "metadata": {},
   "outputs": [],
   "source": [
    "neuron_types = x[0, :, 6].astype(np.int32)\n",
    "index_to_name = {0: 'Am', 1: 'C2', 2: 'C3', 3: 'CT1(Lo1)', 4: 'CT1(M10)', 5: 'L1', 6: 'L2',\n",
    "    7: 'L3', 8: 'L4', 9: 'L5', 10: 'Lawf1', 11: 'Lawf2', 12: 'Mi1', 13: 'Mi10',\n",
    "    14: 'Mi11', 15: 'Mi12', 16: 'Mi13', 17: 'Mi14', 18: 'Mi15', 19: 'Mi2',\n",
    "    20: 'Mi3', 21: 'Mi4', 22: 'Mi9', 23: 'R1', 24: 'R2', 25: 'R3', 26: 'R4',\n",
    "    27: 'R5', 28: 'R6', 29: 'R7', 30: 'R8', 31: 'T1', 32: 'T2', 33: 'T2a',\n",
    "    34: 'T3', 35: 'T4a', 36: 'T4b', 37: 'T4c', 38: 'T4d', 39: 'T5a', 40: 'T5b',\n",
    "    41: 'T5c', 42: 'T5d', 43: 'Tm1', 44: 'Tm16', 45: 'Tm2', 46: 'Tm20', 47: 'Tm28',\n",
    "    48: 'Tm3', 49: 'Tm30', 50: 'Tm4', 51: 'Tm5Y', 52: 'Tm5a', 53: 'Tm5b',\n",
    "    54: 'Tm5c', 55: 'Tm9', 56: 'TmY10', 57: 'TmY13', 58: 'TmY14', 59: 'TmY15',\n",
    "    60: 'TmY18', 61: 'TmY3', 62: 'TmY4', 63: 'TmY5a', 64: 'TmY9'\n",
    "}\n",
    "neuron_type_name = [\n",
    "    \"Am\", \"C2\", \"C3\", \"CT1(Lo1)\", \"CT1(M10)\",\n",
    "    \"L1\", \"L2\", \"L3\", \"L4\", \"L5\", \"Lawf1\", \"Lawf2\",\n",
    "    \"Mi1\", \"Mi10\", \"Mi11\", \"Mi12\", \"Mi13\", \"Mi14\", \"Mi15\", \"Mi2\", \"Mi3\", \"Mi4\", \"Mi9\",\n",
    "    \"R1\", \"R2\", \"R3\", \"R4\", \"R5\", \"R6\", \"R7\", \"R8\",\n",
    "    \"T1\", \"T2\", \"T2a\", \"T3\", \"T4a\", \"T4b\", \"T4c\", \"T4d\", \"T5a\", \"T5b\", \"T5c\", \"T5d\",\n",
    "    \"Tm1\", \"Tm16\", \"Tm2\", \"Tm20\", \"Tm28\", \"Tm3\", \"Tm30\", \"Tm4\", \"Tm5Y\",\n",
    "    \"Tm5a\", \"Tm5b\", \"Tm5c\", \"Tm9\", \"TmY10\", \"TmY13\", \"TmY14\",\n",
    "    \"TmY15\", \"TmY18\", \"TmY3\", \"TmY4\", \"TmY5a\", \"TmY9\"\n",
    "]\n",
    "neuron_type_index = {t: i for i, t in enumerate(neuron_type_name)}\n",
    "\n",
    "def compute_ixs_per_type(neuron_types):\n",
    "    \"\"\"Compute indices corresponding to each neuron type.\"\"\"\n",
    "    order = np.argsort(neuron_types)\n",
    "    uniq_types, start_index = np.unique(neuron_types[order], return_index=True)\n",
    "    num_neuron_types = len(uniq_types)\n",
    "    assert (uniq_types == np.arange(num_neuron_types)).all(), \"breaks assumptions\"\n",
    "    breaks = np.zeros(len(uniq_types)+1, dtype=np.int64)\n",
    "    breaks[:-1] = start_index\n",
    "    breaks[-1] = len(neuron_types)\n",
    "    return [\n",
    "        order[breaks[i]:breaks[i+1]] for i in range(num_neuron_types)\n",
    "    ]\n",
    "neuron_ixs_by_type = compute_ixs_per_type(neuron_types)\n"
   ]
  },
  {
   "cell_type": "code",
   "execution_count": 6,
   "id": "5ee79330",
   "metadata": {},
   "outputs": [],
   "source": [
    "BURNIN_OFFSET = 100\n",
    "OBS_TIME_STEPS = 20\n",
    "\n",
    "obs_ca = x[BURNIN_OFFSET::OBS_TIME_STEPS, :, 7].copy()\n",
    "train_start = 0\n",
    "validation_start = 3000\n",
    "test_start = 3500\n",
    "\n",
    "train_mat = obs_ca[train_start:validation_start]\n",
    "val_mat = obs_ca[validation_start:test_start]"
   ]
  },
  {
   "cell_type": "code",
   "execution_count": 7,
   "id": "daf05fc3",
   "metadata": {},
   "outputs": [],
   "source": [
    "device=torch.device(\"cuda\")\n",
    "train_tensor = torch.tensor(train_mat, device=device)\n"
   ]
  },
  {
   "cell_type": "code",
   "execution_count": 12,
   "id": "726b41cc",
   "metadata": {},
   "outputs": [
    {
     "name": "stderr",
     "output_type": "stream",
     "text": [
      "100%|██████████████████████████████████████████████| 100000/100000 [15:55<00:00, 104.62it/s, loss=0.00251, lr=1.000e-03]\n"
     ]
    }
   ],
   "source": [
    "class MLP(torch.nn.Module):\n",
    "    def __init__(\n",
    "            self,\n",
    "            num_input_dims: int,\n",
    "            num_output_dims: int,\n",
    "            num_hidden_layers: int,\n",
    "            num_hidden_units: int\n",
    "        ):\n",
    "        super().__init__()\n",
    "        self.layers = torch.nn.ModuleList()\n",
    "        input_dims = num_input_dims\n",
    "        for i in range(num_hidden_layers):\n",
    "            linear = torch.nn.Linear(input_dims, num_hidden_units)\n",
    "            torch.nn.init.normal_(linear.weight, mean=0., std=0.1)\n",
    "            torch.nn.init.zeros_(linear.bias)\n",
    "            self.layers.append(\n",
    "                linear\n",
    "            )\n",
    "            self.layers.append(\n",
    "                torch.nn.Tanh()\n",
    "            )\n",
    "            input_dims = num_hidden_units\n",
    "        self.layers.append(\n",
    "            torch.nn.Linear(num_hidden_units, num_output_dims)\n",
    "        )\n",
    "\n",
    "    def forward(self, x):\n",
    "        y = self.layers[0](x)\n",
    "\n",
    "        for layer in self.layers[1:-1]:\n",
    "            y = y + layer(y)\n",
    "\n",
    "        return self.layers[-1](y)\n",
    "\n",
    "torch.set_float32_matmul_precision('high')\n",
    "L = 32\n",
    "encoder = MLP(train_mat.shape[1], L, 3, L).to(device)\n",
    "decoder = MLP(L, train_mat.shape[1], 3, L).to(device)\n",
    "evolver = MLP(L, L, 3, L).to(device)\n",
    "\n",
    "opt = torch.optim.Adam(\n",
    "    list(itertools.chain(encoder.parameters(), decoder.parameters(), evolver.parameters())),\n",
    "    lr=1e-3,\n",
    ")\n",
    "scheduler = torch.optim.lr_scheduler.CosineAnnealingWarmRestarts(\n",
    "    opt, T_0=1000, T_mult=1, eta_min=1e-5\n",
    ")\n",
    "def train(encoder, decoder, evolver, train_tensor):\n",
    "    opt.zero_grad(True)\n",
    "\n",
    "    proj = encoder(train_tensor)\n",
    "    recon = decoder(proj)\n",
    "\n",
    "    # reconstruction loss\n",
    "    recon_loss = torch.nn.MSELoss()(train_tensor, recon)\n",
    "\n",
    "    # Run evolver 7 times\n",
    "    for _ in range(7):\n",
    "        proj = proj + evolver(proj)\n",
    "    recon1 = decoder(proj)\n",
    "\n",
    "    # time steps are nearby\n",
    "    nbr_loss = torch.nn.MSELoss()(recon1[:-1], train_tensor[1:])\n",
    "\n",
    "    loss = nbr_loss + recon_loss\n",
    "    loss.backward()\n",
    "    scheduler.step()\n",
    "    opt.step()\n",
    "    return loss\n",
    "train_opt = torch.compile(train, mode=\"reduce-overhead\")\n",
    "loop = tqdm.trange(100_000, ncols=120)\n",
    "for i in loop:\n",
    "    loss = train_opt(encoder, decoder, evolver, train_tensor)\n",
    "    loop.set_postfix(\n",
    "        # recon=recon_loss.item(),\n",
    "        loss=loss.item(),\n",
    "        lr=f\"{scheduler.get_last_lr()[0]:.3e}\"\n",
    "    )"
   ]
  },
  {
   "cell_type": "code",
   "execution_count": 15,
   "id": "793b78d4",
   "metadata": {},
   "outputs": [
    {
     "name": "stderr",
     "output_type": "stream",
     "text": [
      "100%|██████████████████████████████████████████████| 300000/300000 [47:47<00:00, 104.61it/s, loss=0.00214, lr=1.000e-03]\n"
     ]
    }
   ],
   "source": [
    "loop = tqdm.trange(300_000, ncols=120)\n",
    "for i in loop:\n",
    "    loss = train_opt(encoder, decoder, evolver, train_tensor)\n",
    "    loop.set_postfix(\n",
    "        # recon=recon_loss.item(),\n",
    "        loss=loss.item(),\n",
    "        lr=f\"{scheduler.get_last_lr()[0]:.3e}\"\n",
    "    )"
   ]
  },
  {
   "cell_type": "code",
   "execution_count": 47,
   "id": "a9501635",
   "metadata": {},
   "outputs": [
    {
     "name": "stderr",
     "output_type": "stream",
     "text": [
      "100%|████████████████████████████████████████████████████████████| 100000/100000 [15:57<00:00, 104.40it/s, loss=0.00152]\n"
     ]
    }
   ],
   "source": [
    "# just run with slower learning rate\n",
    "opt = torch.optim.Adam(\n",
    "    list(itertools.chain(encoder.parameters(), decoder.parameters(), evolver.parameters())),\n",
    "    lr=1e-5,\n",
    ")\n",
    "def train_slow(encoder, decoder, evolver, train_tensor):\n",
    "    opt.zero_grad(True)\n",
    "\n",
    "    proj = encoder(train_tensor)\n",
    "    recon = decoder(proj)\n",
    "\n",
    "    # reconstruction loss\n",
    "    recon_loss = torch.nn.MSELoss()(train_tensor, recon)\n",
    "\n",
    "    # Run evolver 7 times\n",
    "    for _ in range(7):\n",
    "        proj = proj + evolver(proj)\n",
    "    recon1 = decoder(proj)\n",
    "\n",
    "    # time steps are nearby\n",
    "    nbr_loss = torch.nn.MSELoss()(recon1[:-1], train_tensor[1:])\n",
    "\n",
    "    loss = nbr_loss + recon_loss\n",
    "    loss.backward()\n",
    "    opt.step()\n",
    "    return loss\n",
    "train_slow_opt = torch.compile(train_slow, mode=\"reduce-overhead\")\n",
    "loop = tqdm.trange(100_000, ncols=120)\n",
    "for i in loop:\n",
    "    loss = train_slow_opt(encoder, decoder, evolver, train_tensor)\n",
    "    loop.set_postfix(\n",
    "        # recon=recon_loss.item(),\n",
    "        loss=loss.item(),\n",
    "        # lr=f\"{scheduler.get_last_lr()[0]:.3e}\"\n",
    "    )"
   ]
  },
  {
   "cell_type": "code",
   "execution_count": 105,
   "id": "f3437ce7",
   "metadata": {},
   "outputs": [
    {
     "data": {
      "text/plain": [
       "torch.Size([3000, 13741])"
      ]
     },
     "execution_count": 105,
     "metadata": {},
     "output_type": "execute_result"
    }
   ],
   "source": [
    "train_tensor.shape"
   ]
  },
  {
   "cell_type": "code",
   "execution_count": null,
   "id": "d837c352",
   "metadata": {},
   "outputs": [],
   "source": [
    "# Save models\n",
    "# ep = torch.export.export(encoder, (train_tensor,))\n",
    "# torch.export.save(ep, \"/mnt/localdata/encoder.pt2\")\n",
    "# proj = encoder(train_tensor)\n",
    "# ep = torch.export.export(decoder, (proj,))\n",
    "# torch.export.save(ep, \"/mnt/localdata/decoder.pt2\")\n",
    "# ep = torch.export.export(evolver, (proj,))\n",
    "# torch.export.save(ep, \"/mnt/localdata/evolver.pt2\")"
   ]
  },
  {
   "cell_type": "code",
   "execution_count": 54,
   "id": "ee3c51fa",
   "metadata": {},
   "outputs": [],
   "source": [
    "val_tensor = torch.tensor(val_mat, device=device)"
   ]
  },
  {
   "cell_type": "code",
   "execution_count": 55,
   "id": "1c390470",
   "metadata": {},
   "outputs": [],
   "source": [
    "proj = encoder(val_tensor)\n",
    "recon = decoder(proj)\n",
    "\n",
    "proj1 = proj.detach().cpu().numpy()\n",
    "recon1 = recon.detach().cpu().numpy()"
   ]
  },
  {
   "cell_type": "code",
   "execution_count": 67,
   "id": "74749e7e",
   "metadata": {},
   "outputs": [],
   "source": [
    "x0 = encoder(val_tensor[:1, :])\n",
    "results = [x0]\n",
    "for _ in range((val_tensor.shape[0] - 1)):\n",
    "    prev = results[-1]\n",
    "    state = prev.detach().clone()\n",
    "    for _ in range(7):\n",
    "        state = state + evolver(state)\n",
    "    results.append(state)\n",
    "final = decoder(torch.cat(results, dim=0))\n",
    "final1 = final.detach().cpu().numpy()"
   ]
  },
  {
   "cell_type": "code",
   "execution_count": 102,
   "id": "0b26918c",
   "metadata": {},
   "outputs": [
    {
     "name": "stdout",
     "output_type": "stream",
     "text": [
      "i=6905\n"
     ]
    },
    {
     "data": {
      "text/plain": [
       "(0.0, 10.0)"
      ]
     },
     "execution_count": 102,
     "metadata": {},
     "output_type": "execute_result"
    },
    {
     "data": {
      "image/png": "[encoded data removed]",
      "text/plain": [
       "<Figure size 1600x400 with 1 Axes>"
      ]
     },
     "metadata": {},
     "output_type": "display_data"
    }
   ],
   "source": [
    "i = np.random.randint(val_mat.shape[1])\n",
    "print(f\"{i=}\")\n",
    "plt.figure(figsize=(16, 4))\n",
    "p = plt.plot(val_mat[:, i])\n",
    "plt.plot(final1[:, i], color=p[-1].get_color(), ls=\"dotted\")\n",
    "plt.plot(recon1[:, i], color=p[-1].get_color(), ls=\"dashed\")\n",
    "plt.ylim(0, 2)\n",
    "plt.xlim(0, 10)"
   ]
  },
  {
   "cell_type": "code",
   "execution_count": null,
   "id": "a7d39568",
   "metadata": {},
   "outputs": [],
   "source": []
  }
 ],
 "metadata": {
  "kernelspec": {
   "display_name": "Python 3 (ipykernel)",
   "language": "python",
   "name": "python3"
  },
  "language_info": {
   "codemirror_mode": {
    "name": "ipython",
    "version": 3
   },
   "file_extension": ".py",
   "mimetype": "text/x-python",
   "name": "python",
   "nbconvert_exporter": "python",
   "pygments_lexer": "ipython3",
   "version": "3.10.0"
  }
 },
 "nbformat": 4,
 "nbformat_minor": 5
}
